{
 "cells": [
  {
   "cell_type": "markdown",
   "metadata": {},
   "source": [
    "**<h1>Operaciones avanzadas con listas</h1>**<hr>"
   ]
  },
  {
   "cell_type": "markdown",
   "metadata": {},
   "source": [
    "En este apartado veremos algunas operaciones algo más complejas que se pueden realizar con listas, y que requieren definir alguna función adicional.<br><br>**Ordenación de listas**<br><br>Ya hemos visto en documentos anteriores que la instrucción **sort** permite ordenar automáticamente listas simples. Pero si queremos ordenar algunos datos más complejos (como objetos, o tuplas) debemos proporcionar una función que indique el criterio de comparación. Por ejemplo, esta lista de tuplas queda ordenada ascendentemente por su edad (segundo campo):"
   ]
  },
  {
   "cell_type": "code",
   "execution_count": 2,
   "metadata": {},
   "outputs": [],
   "source": [
    "def ordenarPorEdad(persona):\n",
    "    return(persona[1])\n",
    "\n",
    "gente = [(\"John Doe\", 36, \"611223344\"),\n",
    "         (\"Mary Stewart\", 54, \"733445566\")\n",
    "         ]\n",
    "gente.sort(key=ordenarPorEdad)"
   ]
  },
  {
   "cell_type": "markdown",
   "metadata": {},
   "source": [
    "**Mapeo de listas**<br><br>La instrucción **map** aplica una función de transformación a una lista y devuelve los elementos transformados. Estos elementos pueden formar de nuevo una lista usando la instrucción **list**. Este ejemplo obtiene una lista con los cuadrados de los números de la lista original:"
   ]
  },
  {
   "cell_type": "code",
   "execution_count": 3,
   "metadata": {},
   "outputs": [],
   "source": [
    "def cuadrado(x):\n",
    "    return (x * x)\n",
    "\n",
    "lista = [1, 2, 3, 4]\n",
    "cuadrados = list(map(cuadrado, lista))"
   ]
  },
  {
   "cell_type": "markdown",
   "metadata": {},
   "source": [
    "**Filtrado de listas**<br><br>La instrucción **filter** aplica una función de filtrado a una lista y devuelve los elementos que cumplen la condición o pasan el filtro. Como ocurre con *map*, podemos formar una nueva lista con ellos usando la instrucción **list**. El siguiente ejemplo se queda con los números pares de una colección: "
   ]
  },
  {
   "cell_type": "code",
   "execution_count": 4,
   "metadata": {},
   "outputs": [],
   "source": [
    "def par(x):\n",
    "    return x % 2 == 0\n",
    "\n",
    "lista = [1, 2, 3, 4]\n",
    "pares = list(filter(par, lista))"
   ]
  },
  {
   "cell_type": "markdown",
   "metadata": {},
   "source": [
    "**<h3>Nociones sobre programación funcional</h3>** Algunas funciones son bastante simples y ocupan una simple línea de código. Por ejemplo, echemos un vistazo a un fragmento de código anterior que transforma un array de números en sus cuadrados:"
   ]
  },
  {
   "cell_type": "code",
   "execution_count": 5,
   "metadata": {},
   "outputs": [],
   "source": [
    "def cuadrado(x):\n",
    "    return(x * x)\n",
    "\n",
    "lista = [1, 2, 3, 4]\n",
    "cuadrados = list(map(lambda x: x*x, lista))"
   ]
  },
  {
   "cell_type": "markdown",
   "metadata": {},
   "source": [
    "Cuando la función es así de simple, se puede reemplazar por una **expresión lambda**. Estas expresiones se utilizan en muchos lenguajes para implementar funciones normalmente cortas, de forma que ocupan una línea de código. Además, tienen la peculiaridad de que se pueden definir en el mismo punto en que se quieren utilizar. Empleando una expresión lambda, el código anterior quedaría así: "
   ]
  },
  {
   "cell_type": "code",
   "execution_count": 8,
   "metadata": {},
   "outputs": [],
   "source": [
    "lista = [1, 2, 3, 4]\n",
    "cuadrados = list(map(lambda x: x*x, lista))"
   ]
  },
  {
   "cell_type": "markdown",
   "metadata": {},
   "source": [
    "Como vemos, la notación consiste en utilizar la palabra **lambda** seguida de dos parámetros que necesita la función (separados por comas), dos puntos y el resultado a devolver. Aplicando esto mismo al ejemplo anterior que filtra los números pares usando *filter*, podría quedar un código así:"
   ]
  },
  {
   "cell_type": "code",
   "execution_count": 6,
   "metadata": {},
   "outputs": [],
   "source": [
    "lista = [1, 2, 3, 4]\n",
    "pares = list(filter(lambda x: x % 2 == 0, lista))"
   ]
  },
  {
   "cell_type": "markdown",
   "metadata": {},
   "source": [
    "A la hora de ordenar colecciones de datos, también podemos definir con lambdas el criterio de ordenación. El siguiente ejemplo ordena una lista de tuplas por el segundo campo de dichas tuplas (edad númerica):"
   ]
  },
  {
   "cell_type": "code",
   "execution_count": 7,
   "metadata": {},
   "outputs": [],
   "source": [
    "gente = [(\"John Doe\", 36, \"611223344\"),\n",
    "         (\"Mary Stewart\", 54, \"733445566\")  \n",
    "         ]\n",
    "gente.sort(key = lambda x: x[1])"
   ]
  }
 ],
 "metadata": {
  "kernelspec": {
   "display_name": "Python 3",
   "language": "python",
   "name": "python3"
  },
  "language_info": {
   "codemirror_mode": {
    "name": "ipython",
    "version": 3
   },
   "file_extension": ".py",
   "mimetype": "text/x-python",
   "name": "python",
   "nbconvert_exporter": "python",
   "pygments_lexer": "ipython3",
   "version": "3.13.0"
  }
 },
 "nbformat": 4,
 "nbformat_minor": 2
}
