{
 "cells": [
  {
   "cell_type": "markdown",
   "metadata": {},
   "source": [
    "**<h1>Programación modular: funciones</h1>**\n",
    "<hr>"
   ]
  },
  {
   "cell_type": "markdown",
   "metadata": {},
   "source": [
    "Las funciones nos permiten agrupar el código en bloques reutilizables. De este modo evitamos repetir innecesariamente el código y, además, podemos reutilizarlo en diferentes partes del programa."
   ]
  },
  {
   "cell_type": "markdown",
   "metadata": {},
   "source": [
    "**<h3>Definición de funciones</h3>**\n",
    "\n",
    "A la hora de definir una función en Python, comenzamos con la palabra *def* seguida del nombre de la función y los parámetros que tebdrá, entre paréntesis. Para cada parámetro sólo debemos especificar su nombre (recuerda que en Python no se especifican los tipos de datos explícitamente).\n",
    "\n",
    "Igual que ocurre con otras estructuras como *if* o *while*, el código perteneciente a una función debe estar tabulado. Además, si queremos que la función devuelva algún valor, podemos emplear la cláusula *return* como en otros lenguajes, aunque no es obligatoria si no queremos devolver nada.\n",
    "\n",
    "Veamos algunos ejemplos.\n",
    "\n",
    "- Esta función recibe dos parámetros y devuelve eel mayor de ellos:"
   ]
  },
  {
   "cell_type": "code",
   "execution_count": 1,
   "metadata": {},
   "outputs": [],
   "source": [
    "def maximo(num1, num2):\n",
    "    if num1 > num2:\n",
    "        return num1\n",
    "    else:\n",
    "        return num2"
   ]
  },
  {
   "cell_type": "markdown",
   "metadata": {},
   "source": [
    "- Esta función recibe un texto como parámetro y lo saca por la pantalla:"
   ]
  },
  {
   "cell_type": "code",
   "execution_count": 2,
   "metadata": {},
   "outputs": [],
   "source": [
    "def imprimeTexto(texto):\n",
    "    print(texto)\n",
    "    return # Esta línea se podría omitir"
   ]
  },
  {
   "cell_type": "markdown",
   "metadata": {},
   "source": [
    "A la hora de llamar a estas funciones desde otras partes del código, se hace igual que en otros lenguajes:"
   ]
  },
  {
   "cell_type": "code",
   "execution_count": 3,
   "metadata": {},
   "outputs": [
    {
     "name": "stdout",
     "output_type": "stream",
     "text": [
      "Escribe dos números: \n",
      "El máximo es:  12\n",
      "Hola me llamo Alberto Aracil Millán\n"
     ]
    }
   ],
   "source": [
    "print(\"Escribe dos números: \")\n",
    "n1 = int(input())\n",
    "n2 = int(input())\n",
    "print(\"El máximo es: \", maximo(n1,n2))\n",
    "\n",
    "texto = input(\"Escribe un texto: \")\n",
    "imprimeTexto(texto)"
   ]
  },
  {
   "cell_type": "markdown",
   "metadata": {},
   "source": [
    "**Más sobre el valor de retorno**<br>Hemos visto que con la instrucción *return* podemos hacer que la función devuelva un resultado.\n",
    "Este resultado puede ser un valor simple (por ejemplo, un número) o un dato complejo, o compuesto de varios elementos. En este último caso, podemos hacer que la función devuelva:\n",
    "\n",
    "- Una lista de valores\n",
    "- Un mapa o diccionario de datos\n",
    "- Una tupla\n",
    "- ...\n",
    "\n",
    "La siguiente función devuelve una lista con los datos que recibe como parámetros:"
   ]
  },
  {
   "cell_type": "code",
   "execution_count": 4,
   "metadata": {},
   "outputs": [
    {
     "name": "stdout",
     "output_type": "stream",
     "text": [
      "2\n"
     ]
    }
   ],
   "source": [
    "def lista(n1,n2,n3):\n",
    "    return [n1,n2,n3]\n",
    "\n",
    "datos = lista(1, 2, 3)\n",
    "print(datos[1])"
   ]
  },
  {
   "cell_type": "markdown",
   "metadata": {},
   "source": [
    "Un uso curioso de esta particularidad es el trabajo con tuplas: podemos hacer que una función devuelva una secuencia de datos (varios datos), separados por comas, y asignar el resultado de la llamada a un conjunto de variables, también separadas por comas. Por ejemplo, la siguiente función devuelve un número y un nombre de persona. Al llamarla, podemos obtener de golpe los dos valores devueltos, y asignarlos a dos variables independientes: "
   ]
  },
  {
   "cell_type": "code",
   "execution_count": 5,
   "metadata": {},
   "outputs": [
    {
     "name": "stdout",
     "output_type": "stream",
     "text": [
      "20\n",
      "Nacho\n"
     ]
    }
   ],
   "source": [
    "def mi_funcion():\n",
    "    return 20, \"Nacho\"\n",
    "\n",
    "numero, nombre = mi_funcion()\n",
    "print(numero)\n",
    "print(nombre)"
   ]
  },
  {
   "cell_type": "markdown",
   "metadata": {},
   "source": [
    "**La instrucción** ***pass***\n",
    "\n",
    "En algunas ocasiones nos puede interesar definir la cabecera de una función y no implementar (aún) su código. En este caso, para no dejar la función vacía (lo que daría a un error de ejecución) podemos emplear la instrucción vacía **pass** como única instrucción de la función (que no tiene ningún efecto), y ya la completaremos mas adelante:"
   ]
  },
  {
   "cell_type": "code",
   "execution_count": 6,
   "metadata": {},
   "outputs": [],
   "source": [
    "def mi_funcion():\n",
    "    pass"
   ]
  },
  {
   "cell_type": "markdown",
   "metadata": {},
   "source": [
    "**<h3>Parámetros</h3>** Veamos a continuación algunos aspectos relevantes sobre los parámetros que pasamos a las funciones.<br><br>**Paso por valor y por referencia**<br><br>En Python todos los parámetros simples (números, booleanos y textos) se pasan por valor, con lo que no podemos modificar el valor original del dato (se pasa una copia del mismo), y todos los tipos complejos (listas, u objetos) se pasan por referencia. Esto último implica que, siempre que se mantenga la referencia original, podemos modificar el valor del parámetro de forma persistente (se aplica a la variable original utilizada como parámetro). Por ejemplo, si empleamos esta función:  "
   ]
  },
  {
   "cell_type": "code",
   "execution_count": 8,
   "metadata": {},
   "outputs": [
    {
     "name": "stdout",
     "output_type": "stream",
     "text": [
      "Valores de la función: [10, 20, 30]\n",
      "Valores fuera de la función: [10, 20, 30]\n"
     ]
    }
   ],
   "source": [
    "def anyadirValores(lista):\n",
    "    lista.append(30)\n",
    "    print(\"Valores de la función:\",lista)\n",
    "    return\n",
    "\n",
    "# Y llamamos a la función de este modo:\n",
    "\n",
    "lista1 = [10, 20]\n",
    "anyadirValores(lista1)\n",
    "print(\"Valores fuera de la función:\",lista1)"
   ]
  },
  {
   "cell_type": "markdown",
   "metadata": {},
   "source": [
    "Entonces la variable *lista1* y el parámetro *lista* almacenan los mismos valores finales: [10, 20, 30]. Sin embargo, si usamos esa otra función:"
   ]
  },
  {
   "cell_type": "code",
   "execution_count": 10,
   "metadata": {},
   "outputs": [
    {
     "name": "stdout",
     "output_type": "stream",
     "text": [
      "Valores en la función: [30, 40]\n",
      "Valores fuera de la función: [10, 20]\n"
     ]
    }
   ],
   "source": [
    "def anyadirValores(lista):\n",
    "    lista = [30, 40]\n",
    "    print(\"Valores en la función:\", lista)\n",
    "    return\n",
    "\n",
    "\n",
    "lista1 = [10, 20]\n",
    "anyadirValores(lista1)\n",
    "print (\"Valores fuera de la función:\", lista1)"
   ]
  },
  {
   "cell_type": "markdown",
   "metadata": {},
   "source": [
    "y llamamos a la función del mismo modo que antes, entonces la variable original *lista1* tendrá los valores [10, 20] al finalizar, y el parámetro *lista* tendrá los valores [30, 40] dentro de la función, pero este cambio se pierde fuera de la misma, porque se ha modificado la referencia de la variable (la hemos reasignado entera en la función), y por tanto hemos creado una nueva referencia distinta a la original, que no modifica entonces su contenido."
   ]
  },
  {
   "cell_type": "markdown",
   "metadata": {},
   "source": [
    "**Tipos de parámetros**<br><br>Los parámetros definidos en una función pueden ser de distintos tipos, y se pueden especificar de distintas formas. Veamos aquí algunos ejemplos.<br><br>Por un lado tenemos los parámetros **obligatorios**. Es el modo normal de pasar parámetros; si simplemente definimos el nombre de cada parámetro, entonces ese parámetro es obligatorio, y debemos darles valor al llamarles, en el mismo orden en que están definidos. Aquí podemos ver un ejemplo (el mismo visto anteriormente):  "
   ]
  },
  {
   "cell_type": "code",
   "execution_count": 12,
   "metadata": {},
   "outputs": [],
   "source": [
    "def maximo(num1, num2):\n",
    "    if num1 > num2:\n",
    "        return num1\n",
    "    else:\n",
    "        return num2"
   ]
  },
  {
   "cell_type": "markdown",
   "metadata": {},
   "source": [
    "También podemos invocar a una función usando los nombres de los parámetros como **palabras clave**. De este modo no tenemos por qué seguir el mismo orden que cuando se definió dicha función. Por ejemplo: "
   ]
  },
  {
   "cell_type": "code",
   "execution_count": 14,
   "metadata": {},
   "outputs": [
    {
     "name": "stdout",
     "output_type": "stream",
     "text": [
      "Tu nombre es Juan y tu edad es 28\n"
     ]
    }
   ],
   "source": [
    "def imprimirDatos(nombre, edad):\n",
    "    print(\"Tu nombre es\", nombre, \"y tu edad es\", edad)\n",
    "    return\n",
    "\n",
    "imprimirDatos(edad = 28, nombre = \"Juan\")"
   ]
  },
  {
   "cell_type": "markdown",
   "metadata": {},
   "source": [
    "Además, podemos asignar **valores por defecto** a los parámetros que queramos. Así, si queremos llamar a la función, podemos omitir los parámetros que tengan un valor por defecto asignado, si queremos. Por ejemplo:  "
   ]
  },
  {
   "cell_type": "code",
   "execution_count": 15,
   "metadata": {},
   "outputs": [
    {
     "name": "stdout",
     "output_type": "stream",
     "text": [
      "Tu nombre es Juan y tu edad es 0\n"
     ]
    }
   ],
   "source": [
    "def imprimirDatos(nombre, edad = 0):\n",
    "    print(\"Tu nombre es\",nombre, \"y tu edad es\", edad)\n",
    "    return\n",
    "\n",
    "imprimirDatos(\"Juan\")"
   ]
  },
  {
   "cell_type": "markdown",
   "metadata": {},
   "source": [
    "**NOTA**: es importante que los parámetros que tengan valores por defecto se coloquen todos al final de la lista de parámetros (tras los obligatorios), para que así no queden huecos si queremos llamar a la función omitiendo parámetros. También es importante que, cuando omitamos un parámetro, los que vayan detrás se omitan para que no se desplace el orden y se asignen por error a otros parámetros. "
   ]
  },
  {
   "cell_type": "markdown",
   "metadata": {},
   "source": [
    "<br><br><br>**Funciones con un número variable de parámetros**<br><br>Las funciones en Python también admiten un **númmero variable de parámetros**. Esto lo podemos especificar como último parámetro de la función un tipo especial que permite pasar tantos parámetros como necesitemos. Por ejemplo:"
   ]
  },
  {
   "cell_type": "code",
   "execution_count": null,
   "metadata": {},
   "outputs": [],
   "source": [
    "def imprimirTodo(num1, *numeros):\n",
    "    print(\"Primer número:\", num1)\n",
    "    for num in numeros:\n",
    "        print(num)\n",
    "    return"
   ]
  },
  {
   "cell_type": "markdown",
   "metadata": {},
   "source": [
    "Lo que hará la función en este caso es recibir un primer parámetro obligatorio (*num1*) y el resto, opcionales, se recibirán en forma de **tupla** con sus valores. Podemos invocar a la función así:"
   ]
  },
  {
   "cell_type": "code",
   "execution_count": 19,
   "metadata": {},
   "outputs": [
    {
     "name": "stdout",
     "output_type": "stream",
     "text": [
      "Primero número: 1\n",
      "2\n",
      "3\n",
      "4\n"
     ]
    }
   ],
   "source": [
    "imprimirTodo(1, 2, 3, 4)"
   ]
  },
  {
   "cell_type": "markdown",
   "metadata": {},
   "source": [
    "De forma alternativa podemos indicar un doble asterisco en ese último parámetro:"
   ]
  },
  {
   "cell_type": "code",
   "execution_count": 20,
   "metadata": {},
   "outputs": [],
   "source": [
    "def imprimirTodo(num1, **valores):\n",
    "    print(\"Primer número: \", num1)\n",
    "    for num in valores:\n",
    "        print(valores[num])\n",
    "    return"
   ]
  },
  {
   "cell_type": "markdown",
   "metadata": {},
   "source": [
    "En este otro caso lo que se recibe como parámetro adicional es un **mapa** donde a cada parámetro (valor) se le asocia un nombre (clave). Podríamos invocar a la función de este modo:"
   ]
  },
  {
   "cell_type": "code",
   "execution_count": 21,
   "metadata": {},
   "outputs": [
    {
     "name": "stdout",
     "output_type": "stream",
     "text": [
      "Primer número:  1\n",
      "2\n",
      "3\n"
     ]
    }
   ],
   "source": [
    "imprimirTodo(1, a = 2, b = 3)"
   ]
  },
  {
   "cell_type": "markdown",
   "metadata": {},
   "source": [
    "Podemos **combinar ambas cosas** en una función que admita primero una secuencia de valores y luego una secuencia de valores con nombre asociado, por ejemplo: "
   ]
  },
  {
   "cell_type": "code",
   "execution_count": null,
   "metadata": {},
   "outputs": [],
   "source": [
    "def imprimirTodo(*numeros, **valores):\n",
    "    ..."
   ]
  },
  {
   "cell_type": "markdown",
   "metadata": {},
   "source": [
    "Y la podriamos invocar así: "
   ]
  },
  {
   "cell_type": "code",
   "execution_count": null,
   "metadata": {},
   "outputs": [],
   "source": [
    "imprimirTodo(1, 2, 3, a = 4, b = 5)\n",
    "# EL primer parámetro recogería la tupla (1, 2, 3)\n",
    "# El segundo parámetro recogería el mapa {\"a\": 4, \"b\": 5}"
   ]
  },
  {
   "cell_type": "markdown",
   "metadata": {},
   "source": [
    "**Paso de parámetros al programa principal**<br><br>A pesar de que en Python no existe una función principal *main* como la que sí existe en otros lenguajes como C, Java, C#... sí es posible pasar parámetros al programa desde el terminal cuando lo ejecutamos. Para ello, importamos el elemento *sys*, que hace referencia al sistema sobre el que se ejecuta el programa. Dentro, disponemos de un array predefinido llamado *argv*, similar al que existe en C o C++, con los datos que le llegan al programa. El primero de ellos, igual que ocurre en C o C++ es el nombre del propio ejecutable, y el resto son los parámetros adicionales."
   ]
  },
  {
   "cell_type": "code",
   "execution_count": 1,
   "metadata": {},
   "outputs": [
    {
     "name": "stdout",
     "output_type": "stream",
     "text": [
      "--f=c:\\Users\\Alberto\\AppData\\Roaming\\jupyter\\runtime\\kernel-v3d62a600b9863d762253a77ebb961a8f3d17d2a09.json\n"
     ]
    }
   ],
   "source": [
    "import sys\n",
    "\n",
    "for i in range(1, len(sys.argv)):\n",
    "    # Recorremos los parámetros quitando el 0 (que es el ejecutable)\n",
    "    print(sys.argv[i])"
   ]
  }
 ],
 "metadata": {
  "kernelspec": {
   "display_name": "Python 3",
   "language": "python",
   "name": "python3"
  },
  "language_info": {
   "codemirror_mode": {
    "name": "ipython",
    "version": 3
   },
   "file_extension": ".py",
   "mimetype": "text/x-python",
   "name": "python",
   "nbconvert_exporter": "python",
   "pygments_lexer": "ipython3",
   "version": "3.13.0"
  }
 },
 "nbformat": 4,
 "nbformat_minor": 2
}
