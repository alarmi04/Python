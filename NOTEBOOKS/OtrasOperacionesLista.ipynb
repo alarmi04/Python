{
 "cells": [
  {
   "cell_type": "markdown",
   "metadata": {},
   "source": [
    "**<h1>Otras operaciones con lista</h1>**<hr>"
   ]
  },
  {
   "cell_type": "markdown",
   "metadata": {},
   "source": [
    "La instrucción **len(lista)** devuelve el número de elementos actualmente almacenado en la lista."
   ]
  },
  {
   "cell_type": "code",
   "execution_count": null,
   "metadata": {},
   "outputs": [],
   "source": [
    "datos = [1, 2, 3, 4]\n",
    "print(len(datos))      \n",
    "datos2 = [\n",
    "    [1, 2, 3],\n",
    "    [4, 5, 6, 7]\n",
    "]\n",
    "print(len(datos2))    \n",
    "print(len(datos2[0]))"
   ]
  },
  {
   "cell_type": "markdown",
   "metadata": {},
   "source": [
    "La instruccion **list(valor)** convierte un elemento en una lista de valores."
   ]
  },
  {
   "cell_type": "code",
   "execution_count": 9,
   "metadata": {},
   "outputs": [
    {
     "name": "stdout",
     "output_type": "stream",
     "text": [
      "['1', '2', '3']\n"
     ]
    }
   ],
   "source": [
    "datos = list('123')\n",
    "print(datos)"
   ]
  },
  {
   "cell_type": "markdown",
   "metadata": {},
   "source": [
    "La operación **lista1 + lista2** concatena los datos de dos listas"
   ]
  },
  {
   "cell_type": "code",
   "execution_count": 11,
   "metadata": {},
   "outputs": [
    {
     "name": "stdout",
     "output_type": "stream",
     "text": [
      "[1, 2, 3, 4, 4, 5, 6]\n"
     ]
    }
   ],
   "source": [
    "datos1 = [1, 2, 3, 4]\n",
    "datos2 = [4, 5, 6]\n",
    "datosTotales = datos1 + datos2\n",
    "print(datosTotales)"
   ]
  },
  {
   "cell_type": "markdown",
   "metadata": {},
   "source": [
    "La operación **lista * N** genera una nueva lista donde los elementos de la lista original aparecen repetidos N veces, como si de una secuencia se tratase:"
   ]
  },
  {
   "cell_type": "code",
   "execution_count": 12,
   "metadata": {},
   "outputs": [
    {
     "name": "stdout",
     "output_type": "stream",
     "text": [
      "[4, 5, 6, 4, 5, 6, 4, 5, 6]\n"
     ]
    }
   ],
   "source": [
    "datos = [4, 5, 6]\n",
    "datosRepetidos = datos * 3\n",
    "print(datosRepetidos)"
   ]
  },
  {
   "cell_type": "markdown",
   "metadata": {},
   "source": [
    "La expresion **n in lista** comprueba si el dato n está en la lista"
   ]
  },
  {
   "cell_type": "code",
   "execution_count": 13,
   "metadata": {},
   "outputs": [
    {
     "name": "stdout",
     "output_type": "stream",
     "text": [
      "Existe el dato 4\n"
     ]
    }
   ],
   "source": [
    "datos = [4, 5, 6]\n",
    "if 4 in datos:\n",
    "    print(\"Existe el dato 4\")"
   ]
  },
  {
   "cell_type": "markdown",
   "metadata": {},
   "source": [
    "Las instrucciones **max(lista)** y **min(lista)** obtienen el mayor / menor valor de la lista, respectivamente. La función **sum** calcula la suma total de los elementos indicados."
   ]
  },
  {
   "cell_type": "code",
   "execution_count": 15,
   "metadata": {},
   "outputs": [
    {
     "name": "stdout",
     "output_type": "stream",
     "text": [
      "6\n",
      "4\n",
      "15\n"
     ]
    }
   ],
   "source": [
    "datos = [4, 5, 6]\n",
    "print(max(datos))\n",
    "print(min(datos))\n",
    "print(sum(datos))"
   ]
  },
  {
   "cell_type": "markdown",
   "metadata": {},
   "source": [
    "La instrucción **lista.count(objeto)** obtiene el número de apariciones del objeto en la lista.\n"
   ]
  },
  {
   "cell_type": "code",
   "execution_count": 16,
   "metadata": {},
   "outputs": [
    {
     "name": "stdout",
     "output_type": "stream",
     "text": [
      "2\n"
     ]
    }
   ],
   "source": [
    "datos = [4, 5, 6, 4]\n",
    "print(datos.count(4))"
   ]
  },
  {
   "cell_type": "markdown",
   "metadata": {},
   "source": [
    "La instrucción **list.index(objeto)** obtiene la posición donde aparece el objeto por primera vez en la lista, si por algún motivo el elemento no se encuentra, se produce una excepción en el programa."
   ]
  },
  {
   "cell_type": "code",
   "execution_count": 17,
   "metadata": {},
   "outputs": [
    {
     "name": "stdout",
     "output_type": "stream",
     "text": [
      "0\n",
      "3\n"
     ]
    }
   ],
   "source": [
    "datos = [4, 5, 6, 4]\n",
    "print(datos.index(4))\n",
    "print(datos.index(4, 1))"
   ]
  },
  {
   "cell_type": "markdown",
   "metadata": {},
   "source": [
    "La instrucción **lista.sort(funcion)** ordena una lista según el criterio especificado en la función indicada, para listas de datos simples no es necesario indicar ninguna función y si queremos una ordenaciñon inversa usamos un parametro adicional llamado **reverse**:"
   ]
  },
  {
   "cell_type": "code",
   "execution_count": 25,
   "metadata": {},
   "outputs": [
    {
     "name": "stdout",
     "output_type": "stream",
     "text": [
      "[2, 4, 5, 7]\n",
      "[7, 5, 4, 2]\n"
     ]
    }
   ],
   "source": [
    "datos = [4, 2, 7, 5]\n",
    "datos.sort()\n",
    "print(datos)\n",
    "datos.sort(reverse=True)\n",
    "print(datos)"
   ]
  },
  {
   "cell_type": "markdown",
   "metadata": {},
   "source": [
    "Por último la instrucción **lista.reverse()** invierte el orden de la lista, **NO** devuelve una nueva lista, sino que afecta sobre la original.\n",
    "Si queremos mantener el orden original y que la lista invertida sea otra nueva, podemos usar la instrucción lista[::-1] y asignar el valor a otra variable:"
   ]
  },
  {
   "cell_type": "code",
   "execution_count": 27,
   "metadata": {},
   "outputs": [
    {
     "name": "stdout",
     "output_type": "stream",
     "text": [
      "[4, 3, 2, 1]\n",
      "[1, 2, 3, 4]\n"
     ]
    }
   ],
   "source": [
    "datos = [1, 2, 3, 4]\n",
    "datos.reverse()\n",
    "print(datos)      \n",
    "datosInvertidos = datos[::-1]\n",
    "print(datosInvertidos) "
   ]
  }
 ],
 "metadata": {
  "kernelspec": {
   "display_name": "Python 3",
   "language": "python",
   "name": "python3"
  },
  "language_info": {
   "name": "python",
   "version": "3.13.0"
  }
 },
 "nbformat": 4,
 "nbformat_minor": 2
}
