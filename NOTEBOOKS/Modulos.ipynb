{
 "cells": [
  {
   "cell_type": "markdown",
   "metadata": {},
   "source": [
    "**<h1>Módulos</h1>**<hr><br>Python es un lenguaje que se puede (y muchas veces debe) modularizar, es decir, dividir su código en distintos módulos reutilizables. De hecho, el propio núcleo de Python que instalamos en el sistema ya está modularizado, y podemos incorporar algunos de esos módulos a nuestros programas con la instrucción *import*. También podemos instalar módulos adicionales en el sistema (o en el proyecto) e incorporarlos con esta misma instrucción. Veremos cómo hacer esto en este documento.<br><br>Importando módulos propios de Python<br><br>Como decíamos, la instrucción *import* nos permite incorporar a nuestro programa módulos del núcleo de Python para poderlos utilizar. En el siguiente ejemplo importamos el módulo *sys* para acceder a los parámetros que se pasan al programa principal (*sys.argv*)."
   ]
  },
  {
   "cell_type": "code",
   "execution_count": 1,
   "metadata": {},
   "outputs": [
    {
     "name": "stdout",
     "output_type": "stream",
     "text": [
      "--f=c:\\Users\\Alberto\\AppData\\Roaming\\jupyter\\runtime\\kernel-v3da471ec3bb35f7c5aa402eaee6432e7b4cc9a982.json\n"
     ]
    }
   ],
   "source": [
    "import sys\n",
    "\n",
    "for i in range(1, len(sys.argv)):\n",
    "    # Recorremos los parámetros quitando el 0 (ejecutable)\n",
    "    print(sys.argv[i])"
   ]
  },
  {
   "cell_type": "markdown",
   "metadata": {},
   "source": [
    "En la instrucción *import*, podemos añadir una partícula *as* para dar un nombre alternativo al módulo a la hora de utilizarlo:"
   ]
  },
  {
   "cell_type": "code",
   "execution_count": 2,
   "metadata": {},
   "outputs": [
    {
     "name": "stdout",
     "output_type": "stream",
     "text": [
      "--f=c:\\Users\\Alberto\\AppData\\Roaming\\jupyter\\runtime\\kernel-v3da471ec3bb35f7c5aa402eaee6432e7b4cc9a982.json\n"
     ]
    }
   ],
   "source": [
    "import sys as sistema\n",
    "\n",
    "for i in range(1, len(sistema.argv)):\n",
    "    # Recorremos los parámetros quitando el 0 (ejecutable)\n",
    "    print(sistema.argv[i]) "
   ]
  },
  {
   "cell_type": "markdown",
   "metadata": {},
   "source": [
    "Alternativamente, también podemos elegir sólo una parte (o partes, separadas por comas) del módulo en cuestión. Por ejemplo, de este modo importamos únicamente la constante *pi* y la función *sqrt* del módulo *math*: "
   ]
  },
  {
   "cell_type": "code",
   "execution_count": 3,
   "metadata": {},
   "outputs": [
    {
     "name": "stdout",
     "output_type": "stream",
     "text": [
      "3.141592653589793\n",
      "3.0699801238394655\n"
     ]
    }
   ],
   "source": [
    "from math import pi, sqrt\n",
    "print(pi)\n",
    "print(sqrt(pi * 3))"
   ]
  },
  {
   "cell_type": "markdown",
   "metadata": {},
   "source": [
    "**<h3>Descomponiendo nuestro código en módulos</h3>** A medida que el código de nuestro programa crece, puede ser necesario dividirlo en distintos ficheros fuentes. Al hacer esto, podemos emplear la instrucción *import* para \"cargar\" o utilizar unos módulos dentro de otros. Por ejemplo, supongamos que incluimos en un archivo llamado *modulo.py* el siguiente contenido: "
   ]
  },
  {
   "cell_type": "code",
   "execution_count": 4,
   "metadata": {},
   "outputs": [],
   "source": [
    "constantePi = 3.141592\n",
    "\n",
    "def sumar(a, b):\n",
    "    return a + b"
   ]
  },
  {
   "cell_type": "markdown",
   "metadata": {},
   "source": [
    "Si queremos utilizar estos elementos desde otro fichero basta con importarlo:"
   ]
  },
  {
   "cell_type": "code",
   "execution_count": null,
   "metadata": {},
   "outputs": [],
   "source": [
    "# import modulo\n",
    "\n",
    "# print(modulo.sumar(3, 4))\n",
    "# print(modulo.constantePi * 8)"
   ]
  },
  {
   "cell_type": "markdown",
   "metadata": {},
   "source": [
    "Podemos utilizar esta otra sintaxis alternativa para importar directamente unos elementos seleccionados:\n"
   ]
  },
  {
   "cell_type": "code",
   "execution_count": 10,
   "metadata": {},
   "outputs": [],
   "source": [
    "# from modulo import constantePi, sumar\n",
    "\n",
    "# print(modelo.sumar(3, 4))\n",
    "# print(constantePi * 8) "
   ]
  },
  {
   "cell_type": "markdown",
   "metadata": {},
   "source": [
    "En el caso de trabajar con clases, si tenemos cada clase en un archivo, será conveniente utilizar también la cláusula *from* para indicar que de ese archivo se importe la clase, y así no tener que poner ningún prefijo. Por ejemplo, si tenemos la clase *Persona* en el fichero *Persona.py*:"
   ]
  },
  {
   "cell_type": "code",
   "execution_count": 11,
   "metadata": {},
   "outputs": [],
   "source": [
    "# class Persona:\n",
    "#   def __init__(self, ...):\n",
    "#       ...    "
   ]
  },
  {
   "cell_type": "markdown",
   "metadata": {},
   "source": [
    "Y queremos uilizarla desde otro archivo, en lugar de hacer *import Persona* (que nos obligaría después a usar *Persona.Persona* para referirnos a la clase), podemos hacer: "
   ]
  },
  {
   "cell_type": "code",
   "execution_count": 12,
   "metadata": {},
   "outputs": [],
   "source": [
    "# from Persona import Persona"
   ]
  },
  {
   "cell_type": "markdown",
   "metadata": {},
   "source": [
    "**Trabajando con varios archivos fuente**<br><br>Si nuestro proyecto empieza a ser complejo y queremos descomponerlo en distintos archivos fuente, necesitamos un IDE que nos permita trabajar cómodamente con todos estos archivos. Por ejemplo, podemos emplear el IDE **PyCharm**, del que ya hemos hablado. Basta con instalarlo, crear un proyecto e ir colocando nuestro código fuente en distintos archivos dentro de ese proyecto."
   ]
  },
  {
   "cell_type": "markdown",
   "metadata": {},
   "source": [
    "**<h3>Instalación de módulos adicionales</h3>** Como comentábamos al inicio de este documento, podemos enriquecer nuestras aplicaciones Python añadiendo módulos de terceros en nuestro sistema. Esto puede llevarse a cabo con la herramienta *pip* (*Package Installer for Python*). Esta herramienta viene ya incorporada en las últimas versiones de Python. Podemos utilizar de este modo: "
   ]
  },
  {
   "cell_type": "code",
   "execution_count": 13,
   "metadata": {},
   "outputs": [],
   "source": [
    "# pip install <nombre_modulo>"
   ]
  },
  {
   "cell_type": "markdown",
   "metadata": {},
   "source": [
    "**NOTA**: en algunas versiones de Linux y Mac el comando se llama *pip3* en lugar de *pip*."
   ]
  },
  {
   "cell_type": "markdown",
   "metadata": {},
   "source": [
    "Podemos consultar los paquetes o módulos que tenemos instalados con el siguiente comando: "
   ]
  },
  {
   "cell_type": "code",
   "execution_count": 14,
   "metadata": {},
   "outputs": [],
   "source": [
    "# pip list"
   ]
  },
  {
   "cell_type": "markdown",
   "metadata": {},
   "source": [
    "**Ejemplo: Pillow** "
   ]
  },
  {
   "cell_type": "markdown",
   "metadata": {},
   "source": [
    "Pillow es una versión simplificada de una librería llamada PIL (*Python Imaging Library*) que permite manipular imágenes desde Python. Por ejemplo, escalarlas, rotarlas, cambiarles el formato, etc. Muy utilizada cuando trabajamos con redes neuronales convolucionales, por ejemplo.<br><br>**Intalación, primeros pasos y operaciones básicas**<br><br>Para utilizar Pillow en nuestro sistema, deberemos instalar la librería con un comando como éste:"
   ]
  },
  {
   "cell_type": "code",
   "execution_count": 16,
   "metadata": {},
   "outputs": [],
   "source": [
    "# pip install Pillow"
   ]
  },
  {
   "cell_type": "markdown",
   "metadata": {},
   "source": [
    "Después, deberemos incorporar (importar) la librería en los archivos fuente que la necesiten.<br>\n",
    "Normalmente basta con incorporar el módulo *Image*:"
   ]
  },
  {
   "cell_type": "code",
   "execution_count": 17,
   "metadata": {},
   "outputs": [],
   "source": [
    "# from PIL importa Image"
   ]
  },
  {
   "cell_type": "markdown",
   "metadata": {},
   "source": [
    "Una vez importada la librería, podemos abrir imágenes con el método *open* del elemento *image*:"
   ]
  },
  {
   "cell_type": "code",
   "execution_count": 19,
   "metadata": {},
   "outputs": [],
   "source": [
    "# imagen = Image.open(\"fichero.png\")"
   ]
  },
  {
   "cell_type": "markdown",
   "metadata": {},
   "source": [
    "Podemos generar miniaturas de una imagen con el método *thumbnail* indicando el tamaño final como una tupla:"
   ]
  },
  {
   "cell_type": "code",
   "execution_count": 20,
   "metadata": {},
   "outputs": [],
   "source": [
    "# tamano = (64,64)\n",
    "# miniatura = imagen.thumbnail(tamano)"
   ]
  },
  {
   "cell_type": "markdown",
   "metadata": {},
   "source": [
    "Podemos reescalar la imagen a cualquier tamaño con *resize* (también pasando una tupla con el tamaño deseado):"
   ]
  },
  {
   "cell_type": "code",
   "execution_count": 21,
   "metadata": {},
   "outputs": [],
   "source": [
    "# tamano2 = (300, 300)\n",
    "# redimensionada = imagen.resize(tamano2)"
   ]
  },
  {
   "cell_type": "markdown",
   "metadata": {},
   "source": [
    "O rotarla con el método *rotate* (indicando el ángulo de rotación en grados):"
   ]
  },
  {
   "cell_type": "code",
   "execution_count": 22,
   "metadata": {},
   "outputs": [],
   "source": [
    "# rotada = imagen.rotate(45)"
   ]
  }
 ],
 "metadata": {
  "kernelspec": {
   "display_name": "Python 3",
   "language": "python",
   "name": "python3"
  },
  "language_info": {
   "codemirror_mode": {
    "name": "ipython",
    "version": 3
   },
   "file_extension": ".py",
   "mimetype": "text/x-python",
   "name": "python",
   "nbconvert_exporter": "python",
   "pygments_lexer": "ipython3",
   "version": "3.13.0"
  }
 },
 "nbformat": 4,
 "nbformat_minor": 2
}
