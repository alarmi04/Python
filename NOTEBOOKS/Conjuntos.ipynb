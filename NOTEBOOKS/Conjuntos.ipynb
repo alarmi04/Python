{
 "cells": [
  {
   "cell_type": "markdown",
   "metadata": {},
   "source": [
    "**<h1>Conjuntos</h1>**\n",
    "<hr>"
   ]
  },
  {
   "cell_type": "markdown",
   "metadata": {},
   "source": [
    "Los conjuntos son un tipo de colección que no admite duplicados, se pueden crear directamente pasando los elementos entre llaves, y luego con las operaciones *add* y *remove* añadimos o quitamos elementos a conjunto, respectivamente. También podemos crear conjuntos a partir de listas usando la función *set*, que se encarga automáticamente de eliminar duplicados."
   ]
  },
  {
   "cell_type": "markdown",
   "metadata": {},
   "source": [
    "Conviene tener presente que en los conjuntos no existe un orden ni una secuencia numerada de elementos, como sí ocurre en las listas. <br>Veamos un ejemplo: "
   ]
  },
  {
   "cell_type": "code",
   "execution_count": null,
   "metadata": {},
   "outputs": [
    {
     "name": "stdout",
     "output_type": "stream",
     "text": [
      "{'Uno', 'Tres', 'Dos'}\n",
      "{'Uno', 'Cuatro', 'Tres', 'Dos'}\n",
      "{'Uno', 'Cuatro', 'Dos'}\n"
     ]
    }
   ],
   "source": [
    "elementos = [\"Uno\", \"Dos\", \"Dos\", \"Tres\"]\n",
    "conjunto = set(elementos)\n",
    "print(conjunto)\n",
    "\n",
    "conjunto.add(\"Uno\")\n",
    "conjunto.add(\"Cuatro\")\n",
    "print(conjunto)\n",
    "\n",
    "conjunto.remove(\"Tres\")\n",
    "print(conjunto)"
   ]
  }
 ],
 "metadata": {
  "kernelspec": {
   "display_name": "Python 3",
   "language": "python",
   "name": "python3"
  },
  "language_info": {
   "codemirror_mode": {
    "name": "ipython",
    "version": 3
   },
   "file_extension": ".py",
   "mimetype": "text/x-python",
   "name": "python",
   "nbconvert_exporter": "python",
   "pygments_lexer": "ipython3",
   "version": "3.13.0"
  }
 },
 "nbformat": 4,
 "nbformat_minor": 2
}
