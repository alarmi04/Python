{
 "cells": [
  {
   "cell_type": "markdown",
   "metadata": {},
   "source": [
    " **<h1>Ejercicios de Arrays y listas</h1>**<hr>"
   ]
  },
  {
   "cell_type": "markdown",
   "metadata": {},
   "source": [
    "***Ejercicio 1***:\n",
    "\n",
    "Crea un programa llamado ListaInvertida.py que le pida al usuario que introduzca un \n",
    "conjunto de nombres separados por comas, y le muestre por pantalla la misma lista en orden \n",
    "inverso."
   ]
  },
  {
   "cell_type": "code",
   "execution_count": 2,
   "metadata": {},
   "outputs": [
    {
     "name": "stdout",
     "output_type": "stream",
     "text": [
      "['ALberto', 'Eli', 'Lucas', 'Mario', 'Jose']\n"
     ]
    }
   ],
   "source": [
    "nombres = []\n",
    "for i in range(5):\n",
    "    nombres.append(input(\"Introduce un nombre:\"))\n",
    "nombres.reverse()\n",
    "print(nombres)"
   ]
  },
  {
   "cell_type": "markdown",
   "metadata": {},
   "source": [
    "***Ejercicio 2***:\n",
    "\n",
    "Crea un programa llamado BuscaNumeros.py que le pida al usuario que escriba números. El \n",
    "programa los irá añadiendo uno tras otro a una lista hasta que el usuario escriba 0. Entonces, le \n",
    "pedirá que diga un número y le indicará en qué posiciones de la lista aparece ese número."
   ]
  },
  {
   "cell_type": "code",
   "execution_count": 3,
   "metadata": {},
   "outputs": [
    {
     "name": "stdout",
     "output_type": "stream",
     "text": [
      "El numero 12 tiene la posicion 1\n"
     ]
    }
   ],
   "source": [
    "numero = int(input(\"Introduce un número: \"))\n",
    "listaNumeros = []\n",
    "while numero != 0:\n",
    "    listaNumeros.append(numero)\n",
    "    numero = int(input(\"Introduce otro número: \"))\n",
    "\n",
    "numeroBuscar = int(input(\"Que número quieres buscar: \"))\n",
    "print(f\"El numero {numeroBuscar} tiene la posicion {listaNumeros.index(numeroBuscar)+1}\")"
   ]
  },
  {
   "cell_type": "markdown",
   "metadata": {},
   "source": [
    "***Ejercicio 3***:\n",
    "\n",
    "Crea un programa llamado Identidad.py que le pida al usuario un tamaño de tabla N y luego le \n",
    "deje rellenar los datos de N filas y N columnas de enteros. Al finalizar, le deberá decir si la tabla \n",
    "que ha rellenado se corresponde o no con una matriz identidad. Una matriz identidad es aquella que \n",
    "tiene unos en su diagonal principal y ceros en el resto. Por ejemplo (para un tamaño 3 x 3):"
   ]
  }
 ],
 "metadata": {
  "kernelspec": {
   "display_name": "Python 3",
   "language": "python",
   "name": "python3"
  },
  "language_info": {
   "codemirror_mode": {
    "name": "ipython",
    "version": 3
   },
   "file_extension": ".py",
   "mimetype": "text/x-python",
   "name": "python",
   "nbconvert_exporter": "python",
   "pygments_lexer": "ipython3",
   "version": "3.13.0"
  }
 },
 "nbformat": 4,
 "nbformat_minor": 2
}
