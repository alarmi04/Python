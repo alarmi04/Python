{
 "cells": [
  {
   "cell_type": "markdown",
   "metadata": {},
   "source": [
    "**<h1>Cadenas de Texto</h1>**<hr>"
   ]
  },
  {
   "cell_type": "markdown",
   "metadata": {},
   "source": [
    "Python permite manejar cadenas de texto con comillas simples o dobles indistintamente."
   ]
  },
  {
   "cell_type": "code",
   "execution_count": 2,
   "metadata": {},
   "outputs": [
    {
     "name": "stdout",
     "output_type": "stream",
     "text": [
      "Hola Buenas Alberto\n"
     ]
    }
   ],
   "source": [
    "texto = \"Hola \"\n",
    "texto2 = 'Buenas '\n",
    "texto3 = input(\"Dime tu nombre: \")\n",
    "\n",
    "print(texto + texto2 + texto3)"
   ]
  },
  {
   "cell_type": "markdown",
   "metadata": {},
   "source": [
    "Además, podemos hacer algunas operaciones básicas sobre las cadenas de texto, tales como concatenar con **+**:"
   ]
  },
  {
   "cell_type": "code",
   "execution_count": 4,
   "metadata": {},
   "outputs": [
    {
     "name": "stdout",
     "output_type": "stream",
     "text": [
      "Hola, Nacho\n"
     ]
    }
   ],
   "source": [
    "nombre = \"Nacho\"\n",
    "texto = \"Hola, \" + nombre\n",
    "print(texto)"
   ]
  },
  {
   "cell_type": "markdown",
   "metadata": {},
   "source": [
    "También podemos convertir cualquier dato simple a cadena usando la instrucción *str*: "
   ]
  },
  {
   "cell_type": "code",
   "execution_count": 5,
   "metadata": {},
   "outputs": [
    {
     "name": "stdout",
     "output_type": "stream",
     "text": [
      "Tengo 43 años\n"
     ]
    }
   ],
   "source": [
    "edad = 43\n",
    "texto = \"Tengo \" + str(edad) + \" años\"\n",
    "print(texto)"
   ]
  },
  {
   "cell_type": "markdown",
   "metadata": {},
   "source": [
    "Tambien existe la posibilidad de repetir un número determinado de veces, usando el operador **'*'**:"
   ]
  },
  {
   "cell_type": "code",
   "execution_count": 6,
   "metadata": {},
   "outputs": [
    {
     "name": "stdout",
     "output_type": "stream",
     "text": [
      "HolaHolaHola\n"
     ]
    }
   ],
   "source": [
    "texto = \"Hola\" * 3\n",
    "print(texto)"
   ]
  },
  {
   "cell_type": "markdown",
   "metadata": {},
   "source": [
    "Y por último, podemos acceder a cada uno de los caracteres de la cadena de texto usando los corchetes (desde la posicion 0) y podemos determinar el tamaño de la cadena con la instruccion **len(cadena)**:"
   ]
  },
  {
   "cell_type": "code",
   "execution_count": 7,
   "metadata": {},
   "outputs": [
    {
     "name": "stdout",
     "output_type": "stream",
     "text": [
      "H\n",
      "4\n"
     ]
    }
   ],
   "source": [
    "texto = \"Hola\"\n",
    "print(texto[0])\n",
    "print(len(texto))"
   ]
  },
  {
   "cell_type": "markdown",
   "metadata": {},
   "source": [
    "### **Otras operaciones con cadena**"
   ]
  },
  {
   "cell_type": "markdown",
   "metadata": {},
   "source": [
    "Además de las operaciones básicas que hemos visto arriba, también podemos utilizar algunas opciones que también ofrecen otros lenguajes. Por ejemplo, tenemos la instrucción **split** que devuelve una lista con los elementos que ha podido **extraer de una cadena**, a partir de un delimitador que tu especificas:"
   ]
  },
  {
   "cell_type": "code",
   "execution_count": 8,
   "metadata": {},
   "outputs": [
    {
     "name": "stdout",
     "output_type": "stream",
     "text": [
      "['Uno', 'dos', 'tres']\n"
     ]
    }
   ],
   "source": [
    "texto = \"Uno,dos,tres\"\n",
    "partes = texto.split(\",\")\n",
    "print(partes)  "
   ]
  },
  {
   "cell_type": "markdown",
   "metadata": {},
   "source": [
    "El paso inverso del **split**, es decir, **unir** partes de texto con un separador, se puede hacer a través de la instrucción **join**:"
   ]
  },
  {
   "cell_type": "code",
   "execution_count": 9,
   "metadata": {},
   "outputs": [
    {
     "name": "stdout",
     "output_type": "stream",
     "text": [
      "Uno,Dos,Tres\n"
     ]
    }
   ],
   "source": [
    "partes = [\"Uno\", \"Dos\", \"Tres\"]\n",
    "texto = ','.join(partes)\n",
    "print(texto)"
   ]
  },
  {
   "cell_type": "markdown",
   "metadata": {},
   "source": [
    "La instrucción **replace reemplaza** todas las concurrencias de un texto (primer dato) por otro texto (segundo dato), devolviendo una cadena con el resultado final:"
   ]
  },
  {
   "cell_type": "code",
   "execution_count": 10,
   "metadata": {},
   "outputs": [
    {
     "name": "stdout",
     "output_type": "stream",
     "text": [
      "Java es el mejor lenguaje\n",
      "Python es el mejor lenguaje\n"
     ]
    }
   ],
   "source": [
    "texto = \"Java es el mejor lenguaje\"\n",
    "texto2 = texto.replace(\"Java\", \"Python\")\n",
    "print(texto)\n",
    "print(texto2)"
   ]
  },
  {
   "cell_type": "markdown",
   "metadata": {},
   "source": [
    "Las instrucciones **lower** y **upper** convierten todo el texto en **minúsculas** / **mayúsculas**, respectivamente, devolviendo una cadena con el resultado:"
   ]
  },
  {
   "cell_type": "code",
   "execution_count": 11,
   "metadata": {},
   "outputs": [
    {
     "name": "stdout",
     "output_type": "stream",
     "text": [
      "Hola, buenas\n",
      "HOLA, BUENAS\n"
     ]
    }
   ],
   "source": [
    "texto = \"Hola, buenas\"\n",
    "textoMayus = texto.upper()\n",
    "\n",
    "print(texto)\n",
    "print(textoMayus)"
   ]
  },
  {
   "cell_type": "markdown",
   "metadata": {},
   "source": [
    "Otras instrucción llamada **find** permite **buscar** si un texto está contenido dentro de otro, y en qué posición aparece por primera vez. Obtendrá un índice negativo si el texto no se encuentra, de otra manera, podemos usar la expresión *in* para ver ssi un texto está dentro de otro, sin importar la posición:"
   ]
  },
  {
   "cell_type": "code",
   "execution_count": 12,
   "metadata": {},
   "outputs": [
    {
     "name": "stdout",
     "output_type": "stream",
     "text": [
      "Texto encontrado en posición 6\n",
      "El texto contiene \"buenas\"\n"
     ]
    }
   ],
   "source": [
    "texto = \"Hola, buenas\"\n",
    "posicion = texto.find(\"buenas\")\n",
    "if posicion >= 0:\n",
    "    print(\"Texto encontrado en posición\", posicion)\n",
    "if \"buenas\" in texto:\n",
    "    print(\"El texto contiene \\\"buenas\\\"\")"
   ]
  },
  {
   "cell_type": "markdown",
   "metadata": {},
   "source": [
    "Si lo que queremos es **extraer una subcadena** a partir de una cadena principal, debemos indicar entre corchetes el índice a partir del cual queremos  empezar a cortar (inclusive), y el índice donde queremos terminar de cortar (exclusive), separados por dos puntos. Si no indicamos este segundo índice, se corta hasta el final de la cadena."
   ]
  },
  {
   "cell_type": "code",
   "execution_count": 13,
   "metadata": {},
   "outputs": [
    {
     "name": "stdout",
     "output_type": "stream",
     "text": [
      "Hola, buenas tardes\n",
      "buenas\n",
      "buenas tardes\n"
     ]
    }
   ],
   "source": [
    "texto = \"Hola, buenas tardes\"\n",
    "subcadena = texto[6:12]\n",
    "subcadena2 = texto[6:]\n",
    "\n",
    "print(texto)\n",
    "print(subcadena)\n",
    "print(subcadena2)"
   ]
  },
  {
   "cell_type": "markdown",
   "metadata": {},
   "source": [
    "Los índices pueden tomarse desde el inicio de la cadena (valores positivos) o desde el final (valores negativos). Estas dos instrucciones son equivalentes para cla cadena de entrada indicada:"
   ]
  },
  {
   "cell_type": "code",
   "execution_count": 14,
   "metadata": {},
   "outputs": [
    {
     "name": "stdout",
     "output_type": "stream",
     "text": [
      "Hola, buenas tardes\n",
      "buenas\n",
      "buenas\n"
     ]
    }
   ],
   "source": [
    "texto = \"Hola, buenas tardes\"\n",
    "subcadena = texto[6:12]\n",
    "subcadena2 = texto[6:-7]\n",
    "\n",
    "print(texto)\n",
    "print(subcadena)\n",
    "print(subcadena2)"
   ]
  },
  {
   "cell_type": "markdown",
   "metadata": {},
   "source": [
    "A la hora de **comparar** cadenas ara ver cuál es mayor o menor alfabéticamente, podemos emplear los operadores de comparación."
   ]
  },
  {
   "cell_type": "code",
   "execution_count": 15,
   "metadata": {},
   "outputs": [
    {
     "name": "stdout",
     "output_type": "stream",
     "text": [
      "Es menor \"Hola\"\n"
     ]
    }
   ],
   "source": [
    "texto1 = \"Hola\"\n",
    "texto2 = \"buenas\"\n",
    "if texto1 < texto2:\n",
    "    print(\"Es menor \\\"Hola\\\"\")"
   ]
  },
  {
   "cell_type": "markdown",
   "metadata": {},
   "source": [
    "Puede resultar útil **limpiar** una cadena: eliminar espacios innecesarios al inicio o al final, para ello podemos utilizar la instrucción **strip** (elimina a ambos lados) o bien **lstrip** y **rstrip** para eliminar sólo por la izquierda o derecha, respectivamente."
   ]
  },
  {
   "cell_type": "code",
   "execution_count": 16,
   "metadata": {},
   "outputs": [
    {
     "name": "stdout",
     "output_type": "stream",
     "text": [
      "\tHola\n",
      "Hola\n"
     ]
    }
   ],
   "source": [
    "texto1 = \"\\tHola\"\n",
    "print(texto1)\n",
    "\n",
    "texto2 = texto1.strip()\n",
    "print(texto2)"
   ]
  }
 ],
 "metadata": {
  "kernelspec": {
   "display_name": "Python 3",
   "language": "python",
   "name": "python3"
  },
  "language_info": {
   "codemirror_mode": {
    "name": "ipython",
    "version": 3
   },
   "file_extension": ".py",
   "mimetype": "text/x-python",
   "name": "python",
   "nbconvert_exporter": "python",
   "pygments_lexer": "ipython3",
   "version": "3.13.0"
  }
 },
 "nbformat": 4,
 "nbformat_minor": 2
}
