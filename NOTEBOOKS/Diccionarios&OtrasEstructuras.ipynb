{
 "cells": [
  {
   "cell_type": "markdown",
   "metadata": {},
   "source": [
    "**<h1>Diccionarios y otras estructuras de datos</h1>**<hr>"
   ]
  },
  {
   "cell_type": "markdown",
   "metadata": {},
   "source": [
    "<h3>Tuplas</h3>\n",
    "\n",
    "Las tuplas son un tipo especial de datos en Python, que se parece algo a las estructuras o *structs* de C o C#.\n",
    "Permiten definir un conjunto de datos heterogéneos, pero esos datos, una vez se definen, son **inmutables**, es decir, no podemos modificar su valor. Cada dato dentro de la tupla tienen un índice (empiezando por 0), para poder acceder a cada dato.\n",
    "\n",
    "Para definir una tupla, especificamos sus datos (entre paréntesis si queremos, aunque no es obligatorio):"
   ]
  },
  {
   "cell_type": "code",
   "execution_count": 1,
   "metadata": {},
   "outputs": [
    {
     "name": "stdout",
     "output_type": "stream",
     "text": [
      "('John', 'Helen', 'Mary')\n",
      "('Susan', 'Adam', 'Peter')\n"
     ]
    }
   ],
   "source": [
    "nombres = (\"John\", \"Helen\", \"Mary\")\n",
    "nombres2 = \"Susan\", \"Adam\", \"Peter\"\n",
    "\n",
    "print(nombres)\n",
    "print(nombres2)"
   ]
  },
  {
   "cell_type": "markdown",
   "metadata": {},
   "source": [
    "También se pueden especificar diferentes datos en cada posición, por ejemplo para almacenar información personal de una persona:"
   ]
  },
  {
   "cell_type": "code",
   "execution_count": 2,
   "metadata": {},
   "outputs": [
    {
     "name": "stdout",
     "output_type": "stream",
     "text": [
      "('John Doe', 36, '611223344')\n"
     ]
    }
   ],
   "source": [
    "datosPersonales = (\"John Doe\", 36, \"611223344\")\n",
    "print(datosPersonales)"
   ]
  },
  {
   "cell_type": "markdown",
   "metadata": {},
   "source": [
    "A partir de lo anterior podemos acceder a cada elemento con un índice entre corchetes, recuerda que empieza por el 0:"
   ]
  },
  {
   "cell_type": "code",
   "execution_count": 3,
   "metadata": {},
   "outputs": [
    {
     "name": "stdout",
     "output_type": "stream",
     "text": [
      "John Doe\n"
     ]
    }
   ],
   "source": [
    "print(datosPersonales[0])"
   ]
  },
  {
   "cell_type": "markdown",
   "metadata": {},
   "source": [
    "Una de las cosas buenas que tienen las tuplas es que ofrecen mucha flexibilidad a la hora de acceder a sus elementos, o asignarlos a variables separadas. Observemos ese ejemplo:"
   ]
  },
  {
   "cell_type": "code",
   "execution_count": 5,
   "metadata": {},
   "outputs": [
    {
     "name": "stdout",
     "output_type": "stream",
     "text": [
      "(20, 'Nacho', 55.4)\n",
      "Nacho\n",
      "May\n"
     ]
    },
    {
     "ename": "TypeError",
     "evalue": "'tuple' object does not support item assignment",
     "output_type": "error",
     "traceback": [
      "\u001b[1;31m---------------------------------------------------------------------------\u001b[0m",
      "\u001b[1;31mTypeError\u001b[0m                                 Traceback (most recent call last)",
      "Cell \u001b[1;32mIn[5], line 7\u001b[0m\n\u001b[0;32m      5\u001b[0m elem2 \u001b[38;5;241m=\u001b[39m \u001b[38;5;124m\"\u001b[39m\u001b[38;5;124mMay\u001b[39m\u001b[38;5;124m\"\u001b[39m\n\u001b[0;32m      6\u001b[0m \u001b[38;5;28mprint\u001b[39m(elem2)\n\u001b[1;32m----> 7\u001b[0m \u001b[43mdatos\u001b[49m\u001b[43m[\u001b[49m\u001b[38;5;241;43m1\u001b[39;49m\u001b[43m]\u001b[49m \u001b[38;5;241m=\u001b[39m \u001b[38;5;124m\"\u001b[39m\u001b[38;5;124mMay\u001b[39m\u001b[38;5;124m\"\u001b[39m\n",
      "\u001b[1;31mTypeError\u001b[0m: 'tuple' object does not support item assignment"
     ]
    }
   ],
   "source": [
    "datos = 20, \"Nacho\", 55.4\n",
    "print(datos)\n",
    "elem1, elem2, elem3 = datos\n",
    "print(elem2)\n",
    "elem2 = \"May\"\n",
    "print(elem2)\n",
    "datos[1] = \"May\""
   ]
  },
  {
   "cell_type": "markdown",
   "metadata": {},
   "source": [
    "Como observamos arriba, podemos sacar datos de una tupla de forma individual, y luego modificar esas variables. O bien tratar la tupla como un \n",
    "<br>todo (variable *datos* anterior), en cuyo caso los valores almacenados son inmutables."
   ]
  },
  {
   "cell_type": "markdown",
   "metadata": {},
   "source": [
    "<h3>Diccionarios</h3>\n",
    "\n",
    "Los diccionarios, también denominados mapas o tablas *hash* en muchos lenguajes de programación, permiten almacenar información en forma de pares claves-valor, donde cada valor almacenado en la colección tiene asociada una calve, y accedemos a dicho valor a través de su clave.\n",
    "\n",
    "Para definir un diccionario inicialmente vacío, se utiliza una pareja de llaves:  "
   ]
  },
  {
   "cell_type": "code",
   "execution_count": 6,
   "metadata": {},
   "outputs": [],
   "source": [
    "datos = {}"
   ]
  },
  {
   "cell_type": "markdown",
   "metadata": {},
   "source": [
    "Después, para acceder a cada posición del diccionario y darle un valor o consultar el valor que tiene, debemos hacerlo siempre por su clave. Por ejemplo, imaginemos que estamos gestionando un diccionario con un catálogo de productos de una tienda. La clave para identificar cada producto será su código (alfanúmerico, por ejemplo), y el valor asociado serán los datos del product, que podemos representar como una tupla con su código, título y precio, por ejemplo. De este modo podríamos crear e inicializar el diccionario:"
   ]
  },
  {
   "cell_type": "code",
   "execution_count": 1,
   "metadata": {},
   "outputs": [],
   "source": [
    "productos = {}\n",
    "productos['111A'] = ('111A', 'Monitor LG 22 pulgadas', 99.95)\n",
    "productos['222B'] = ('222B', 'Disco duro 512GB SSD', 109.45)\n",
    "productos['333C'] = ('333C', 'Ratón bluetooth', 19.35)"
   ]
  },
  {
   "cell_type": "markdown",
   "metadata": {},
   "source": [
    "Para acceder a un elementos en concreto, siempre tendrá que ser con su clave. Podemos utilizar el operator **in** para verificar previamente si existe la clave en el diccionario:"
   ]
  },
  {
   "cell_type": "code",
   "execution_count": 2,
   "metadata": {},
   "outputs": [
    {
     "name": "stdout",
     "output_type": "stream",
     "text": [
      "Monitor LG 22 pulgadas\n"
     ]
    }
   ],
   "source": [
    "if '111A' in productos:\n",
    "    print(productos['111A'][1])"
   ]
  },
  {
   "cell_type": "markdown",
   "metadata": {},
   "source": [
    "También podemos recorrer todo el diccionario. En este caso podemos usar algunas alternativas:"
   ]
  },
  {
   "cell_type": "code",
   "execution_count": 3,
   "metadata": {},
   "outputs": [
    {
     "name": "stdout",
     "output_type": "stream",
     "text": [
      "Monitor LG 22 pulgadas\n",
      "Disco duro 512GB SSD\n",
      "Ratón bluetooth\n",
      "Monitor LG 22 pulgadas\n",
      "Disco duro 512GB SSD\n",
      "Ratón bluetooth\n"
     ]
    }
   ],
   "source": [
    "# Recorrer todas las claves y con ellas sacar los valores \n",
    "for clave in productos:\n",
    "    print(productos[clave][1])\n",
    "\n",
    "# Recorrer el diccionario sacando calve y valor\n",
    "for clave, valor in productos.items():\n",
    "    print(valor[1])"
   ]
  },
  {
   "cell_type": "markdown",
   "metadata": {},
   "source": [
    "Existen otras operaciones habituales sobre diccionarios, como por ejemplo:"
   ]
  },
  {
   "cell_type": "markdown",
   "metadata": {},
   "source": [
    "- **pop** elimina la clave que indiquemos del diccionario, junto con su valor asociado."
   ]
  },
  {
   "cell_type": "code",
   "execution_count": 4,
   "metadata": {},
   "outputs": [
    {
     "data": {
      "text/plain": [
       "('111A', 'Monitor LG 22 pulgadas', 99.95)"
      ]
     },
     "execution_count": 4,
     "metadata": {},
     "output_type": "execute_result"
    }
   ],
   "source": [
    "productos.pop('111A')"
   ]
  },
  {
   "cell_type": "markdown",
   "metadata": {},
   "source": [
    "- Las operaciones **len** y **clear** sirven, respectivamente, para obtener el número de elementos del diccionario, o para borrarlos todos."
   ]
  },
  {
   "cell_type": "code",
   "execution_count": 5,
   "metadata": {},
   "outputs": [
    {
     "name": "stdout",
     "output_type": "stream",
     "text": [
      "El diccionario tiene 2 productos\n"
     ]
    }
   ],
   "source": [
    "print(\"El diccionario tiene\", len(productos), \"productos\")\n",
    "productos.clear()"
   ]
  }
 ],
 "metadata": {
  "kernelspec": {
   "display_name": "Python 3",
   "language": "python",
   "name": "python3"
  },
  "language_info": {
   "codemirror_mode": {
    "name": "ipython",
    "version": 3
   },
   "file_extension": ".py",
   "mimetype": "text/x-python",
   "name": "python",
   "nbconvert_exporter": "python",
   "pygments_lexer": "ipython3",
   "version": "3.13.0"
  }
 },
 "nbformat": 4,
 "nbformat_minor": 2
}
